{
 "cells": [
  {
   "cell_type": "code",
   "execution_count": null,
   "metadata": {},
   "outputs": [],
   "source": [
    "#| hide\n",
    "from cjm_nbdev_docments.core import *"
   ]
  },
  {
   "cell_type": "markdown",
   "metadata": {},
   "source": [
    "# cjm-nbdev-docments\n",
    "\n",
    "> Automated documentation compliance checking and fixing for nbdev projects using fastcore.docments style"
   ]
  },
  {
   "cell_type": "markdown",
   "metadata": {},
   "source": [
    "## Overview\n",
    "\n",
    "`cjm-nbdev-docments` helps nbdev users adopt and maintain the [fastcore.docments](https://fastcore.fast.ai/docments.html) documentation style. Instead of traditional docstrings, `docments` uses inline parameter documentation, making code more concise and readable.\n",
    "\n",
    "### What is docments style?\n",
    "\n",
    "Instead of this:\n",
    "```python\n",
    "def add(x, y):\n",
    "    \"\"\"Add two numbers.\n",
    "    \n",
    "    Args:\n",
    "        x: First number\n",
    "        y: Second number\n",
    "        \n",
    "    Returns:\n",
    "        Sum of x and y\n",
    "    \"\"\"\n",
    "    return x + y\n",
    "```\n",
    "\n",
    "Docments style looks like this:\n",
    "```python\n",
    "def add(\n",
    "    x: int,  # First number\n",
    "    y: int   # Second number  \n",
    ") -> int:  # Sum of x and y\n",
    "    \"Add two numbers\"\n",
    "    return x + y\n",
    "```\n",
    "\n",
    "### Key Features\n",
    "\n",
    "- **🔍 Comprehensive Scanning**: Automatically scans all exported functions and classes in your nbdev notebooks\n",
    "- **✅ Compliance Checking**: Verifies that all parameters and return values have proper documentation\n",
    "- **📊 Detailed Reports**: Generate text or JSON reports showing compliance status\n",
    "- **🔧 Auto-fix Support**: Automatically add TODO placeholders for missing documentation\n",
    "- **🔄 Docstring Conversion**: Convert existing Google/NumPy/Sphinx style docstrings to docments format\n",
    "- **💻 CLI Interface**: Easy-to-use command-line tool integrated with nbdev workflow"
   ]
  },
  {
   "cell_type": "markdown",
   "metadata": {},
   "source": [
    "## Installation"
   ]
  },
  {
   "cell_type": "markdown",
   "metadata": {},
   "source": [
    "Install latest from the GitHub [repository][repo]:\n",
    "\n",
    "```sh\n",
    "$ pip install git+https://github.com/cj-mills/cjm-nbdev-docments.git\n",
    "```\n",
    "\n",
    "or from [conda][conda]\n",
    "\n",
    "```sh\n",
    "$ conda install -c cj-mills cjm_nbdev_docments\n",
    "```\n",
    "\n",
    "or from [pypi][pypi]\n",
    "\n",
    "```sh\n",
    "$ pip install cjm_nbdev_docments\n",
    "```\n",
    "\n",
    "[repo]: https://github.com/cj-mills/cjm-nbdev-docments\n",
    "[docs]: https://cj-mills.github.io/cjm-nbdev-docments/\n",
    "[pypi]: https://pypi.org/project/cjm-nbdev-docments/\n",
    "[conda]: https://anaconda.org/cj-mills/cjm-nbdev-docments"
   ]
  },
  {
   "cell_type": "markdown",
   "metadata": {},
   "source": [
    "## Quick Start"
   ]
  },
  {
   "cell_type": "markdown",
   "metadata": {},
   "source": [
    "### Basic Usage\n",
    "\n",
    "Check your nbdev project for documentation compliance:\n",
    "\n",
    "```bash\n",
    "# Check all notebooks in your project\n",
    "nbdev-docments\n",
    "\n",
    "# Get detailed report including compliant functions\n",
    "nbdev-docments --verbose\n",
    "\n",
    "# Save report to a file\n",
    "nbdev-docments --output compliance-report.txt\n",
    "```\n",
    "\n",
    "### Auto-fixing Non-compliant Code\n",
    "\n",
    "Automatically add TODO placeholders for missing documentation:\n",
    "\n",
    "```bash\n",
    "# Preview what would be fixed\n",
    "nbdev-docments --fix --dry-run\n",
    "\n",
    "# Apply fixes\n",
    "nbdev-docments --fix\n",
    "```\n",
    "\n",
    "### Converting Existing Docstrings\n",
    "\n",
    "Convert traditional docstrings to docments format:\n",
    "\n",
    "```bash\n",
    "# Convert Google/NumPy/Sphinx style docstrings\n",
    "nbdev-docments --fix --convert-docstrings\n",
    "```"
   ]
  },
  {
   "cell_type": "markdown",
   "metadata": {},
   "source": [
    "## Detailed Usage Examples"
   ]
  },
  {
   "cell_type": "markdown",
   "metadata": {},
   "source": [
    "### Checking a Single Function"
   ]
  },
  {
   "cell_type": "markdown",
   "metadata": {},
   "source": [
    "You can check individual functions for compliance:"
   ]
  },
  {
   "cell_type": "markdown",
   "metadata": {},
   "source": [
    "```python\n",
    "from cjm_nbdev_docments.core import check_function\n",
    "\n",
    "def example_func(x, y):\n",
    "    return x + y\n",
    "\n",
    "check_function(example_func)\n",
    "```"
   ]
  },
  {
   "cell_type": "markdown",
   "metadata": {},
   "source": [
    "### Checking a Specific Notebook"
   ]
  },
  {
   "cell_type": "markdown",
   "metadata": {},
   "source": [
    "Check a single notebook file:"
   ]
  },
  {
   "cell_type": "markdown",
   "metadata": {},
   "source": [
    "```python\n",
    "from cjm_nbdev_docments.core import check_notebook\n",
    "\n",
    "check_notebook(\"00_core.ipynb\")\n",
    "```"
   ]
  },
  {
   "cell_type": "markdown",
   "metadata": {},
   "source": [
    "### Programmatic Usage\n",
    "\n",
    "For integration into your own tools:"
   ]
  },
  {
   "cell_type": "markdown",
   "metadata": {},
   "source": [
    "```python\n",
    "from cjm_nbdev_docments.report import check_project, generate_json_report\n",
    "\n",
    "# Check entire project\n",
    "results = check_project()\n",
    "\n",
    "# Generate JSON report\n",
    "report = generate_json_report(results)\n",
    "\n",
    "# Process results programmatically\n",
    "for notebook, data in report['by_notebook'].items():\n",
    "    print(f\"{notebook}: {len(data['non_compliant'])} issues\")\n",
    "```"
   ]
  },
  {
   "cell_type": "markdown",
   "metadata": {},
   "source": [
    "## What Gets Checked?\n",
    "\n",
    "The tool checks for:\n",
    "\n",
    "1. **Function/Method Documentation**:\n",
    "   - Presence of a docstring\n",
    "   - Documentation for each parameter (except `self`)\n",
    "   - Documentation for return values (when return type is annotated)\n",
    "\n",
    "2. **Type Hints**:\n",
    "   - Missing type annotations for parameters\n",
    "   - Missing return type annotations\n",
    "\n",
    "3. **Class Documentation**:\n",
    "   - Presence of class docstrings\n",
    "\n",
    "4. **TODO Tracking**:\n",
    "   - Identifies documentation with TODO placeholders\n",
    "   - Helps track documentation debt"
   ]
  },
  {
   "cell_type": "markdown",
   "metadata": {},
   "source": [
    "## CLI Reference\n",
    "\n",
    "```\n",
    "nbdev-docments [OPTIONS]\n",
    "\n",
    "Options:\n",
    "  --nbs-path PATH           Path to notebooks directory (defaults to nbdev config)\n",
    "  --format {text,json}      Output format (default: text)\n",
    "  --output, -o PATH         Save report to file instead of printing\n",
    "  --verbose, -v             Show compliant definitions in text report\n",
    "  --quiet, -q               Only show summary (exit code indicates compliance)\n",
    "  --todos-only              Show only functions with TODO placeholders\n",
    "  --fix                     Auto-fix non-compliant functions by adding placeholder docs\n",
    "  --convert-docstrings      Convert existing Google/NumPy/Sphinx docstrings to docments format\n",
    "  --dry-run                 Show what would be fixed without making changes\n",
    "  -h, --help                Show help message and exit\n",
    "```\n",
    "\n",
    "### Exit Codes\n",
    "- `0`: All checked definitions are compliant\n",
    "- `1`: One or more definitions are non-compliant"
   ]
  },
  {
   "cell_type": "markdown",
   "metadata": {},
   "source": [
    "## Module Overview\n",
    "\n",
    "The package consists of five main modules:\n",
    "\n",
    "### 1. **Core** (`cjm_nbdev_docments.core`)\n",
    "Core functionality for checking docments compliance. This module provides:\n",
    "- `DocmentsCheckResult`: Data class for storing compliance check results\n",
    "- `check_definition`: Check a function/class for compliance\n",
    "- `check_function`: Check a single function object\n",
    "- `check_notebook`: Check all definitions in a notebook\n",
    "\n",
    "### 2. **Scanner** (`cjm_nbdev_docments.scanner`)\n",
    "Scans nbdev notebooks for exported functions and classes. Key functions:\n",
    "- `scan_notebook`: Extract all exported definitions from a notebook\n",
    "- `scan_project`: Scan all notebooks in an nbdev project\n",
    "- `get_export_cells`: Find cells with nbdev export directives\n",
    "\n",
    "### 3. **Report** (`cjm_nbdev_docments.report`)\n",
    "Generates compliance reports for docments validation. Provides:\n",
    "- `check_project`: Check all definitions in a project\n",
    "- `generate_text_report`: Create human-readable compliance reports\n",
    "- `generate_json_report`: Create machine-readable JSON reports\n",
    "\n",
    "### 4. **Autofix** (`cjm_nbdev_docments.autofix`)\n",
    "Automatically adds placeholder documentation to non-compliant functions. Features:\n",
    "- `fix_notebook`: Add TODO placeholders for missing documentation\n",
    "- `generate_fixed_source`: Generate corrected source code\n",
    "- Docstring conversion from Google/NumPy/Sphinx to docments format\n",
    "\n",
    "### 5. **CLI** (`cjm_nbdev_docments.cli`)\n",
    "Command-line interface for docments compliance checking. The `nbdev-docments` command provides easy access to all functionality."
   ]
  },
  {
   "cell_type": "markdown",
   "metadata": {},
   "source": [
    "## Documentation\n",
    "\n",
    "Documentation can be found hosted on this GitHub [repository][repo]'s [pages][docs]. Additionally you can find package manager specific guidelines on [conda][conda] and [pypi][pypi] respectively.\n",
    "\n",
    "[repo]: https://github.com/cj-mills/cjm-nbdev-docments\n",
    "[docs]: https://cj-mills.github.io/cjm-nbdev-docments/\n",
    "[pypi]: https://pypi.org/project/cjm-nbdev-docments/\n",
    "[conda]: https://anaconda.org/cj-mills/cjm-nbdev-docments"
   ]
  }
 ],
 "metadata": {
  "kernelspec": {
   "display_name": "python3",
   "language": "python",
   "name": "python3"
  }
 },
 "nbformat": 4,
 "nbformat_minor": 4
}
